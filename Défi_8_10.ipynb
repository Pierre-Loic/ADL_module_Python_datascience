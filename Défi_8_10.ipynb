{
  "nbformat": 4,
  "nbformat_minor": 0,
  "metadata": {
    "kernelspec": {
      "display_name": "Python 3",
      "language": "python",
      "name": "python3"
    },
    "language_info": {
      "codemirror_mode": {
        "name": "ipython",
        "version": 3
      },
      "file_extension": ".py",
      "mimetype": "text/x-python",
      "name": "python",
      "nbconvert_exporter": "python",
      "pygments_lexer": "ipython3",
      "version": "3.6.4"
    },
    "colab": {
      "name": "Défi_8-10.ipynb",
      "provenance": [],
      "include_colab_link": true
    }
  },
  "cells": [
    {
      "cell_type": "markdown",
      "metadata": {
        "id": "view-in-github",
        "colab_type": "text"
      },
      "source": [
        "<a href=\"https://colab.research.google.com/github/Pierre-Loic/ADL_module_Python_datascience/blob/master/D%C3%A9fi_8_10.ipynb\" target=\"_parent\"><img src=\"https://colab.research.google.com/assets/colab-badge.svg\" alt=\"Open In Colab\"/></a>"
      ]
    },
    {
      "cell_type": "markdown",
      "metadata": {
        "id": "2g0wzv5v_MED",
        "colab_type": "text"
      },
      "source": [
        "# Défi des parties 8 à 10"
      ]
    },
    {
      "cell_type": "markdown",
      "metadata": {
        "id": "MuusF8Of_MEF",
        "colab_type": "text"
      },
      "source": [
        "Le but de l'exercice est de préparer un jeu de données pour effectuer une visualisation. Le jeu de données utilisé provient de l'open data de la Nasa. Vous pouvez récupérer des informations à l'adresse suivante : https://data.nasa.gov/Space-Science/Meteorite-Landings/gh4g-9sfh"
      ]
    },
    {
      "cell_type": "markdown",
      "metadata": {
        "id": "PXl1ZB61_MEH",
        "colab_type": "text"
      },
      "source": [
        "1 - Récupérer le jeu de données dans un dataframe"
      ]
    },
    {
      "cell_type": "code",
      "metadata": {
        "id": "zn4lGfcG_MEJ",
        "colab_type": "code",
        "colab": {}
      },
      "source": [
        ""
      ],
      "execution_count": null,
      "outputs": []
    },
    {
      "cell_type": "markdown",
      "metadata": {
        "id": "C-hdNM26_MEb",
        "colab_type": "text"
      },
      "source": [
        "2 - Analyser la qualité des données"
      ]
    },
    {
      "cell_type": "code",
      "metadata": {
        "id": "sLkB-YrH_MEc",
        "colab_type": "code",
        "colab": {}
      },
      "source": [
        ""
      ],
      "execution_count": null,
      "outputs": []
    },
    {
      "cell_type": "markdown",
      "metadata": {
        "id": "X1vW3_lD_MEo",
        "colab_type": "text"
      },
      "source": [
        "3 - Effectuer une analyse exploratoire des données statistique et graphique"
      ]
    },
    {
      "cell_type": "code",
      "metadata": {
        "id": "jOoNQkjL_MEp",
        "colab_type": "code",
        "colab": {}
      },
      "source": [
        ""
      ],
      "execution_count": null,
      "outputs": []
    },
    {
      "cell_type": "markdown",
      "metadata": {
        "id": "yVtR2wdM_MEy",
        "colab_type": "text"
      },
      "source": [
        "4 - Préparer le dataframe pour la visualisation en nettoyant les données"
      ]
    },
    {
      "cell_type": "code",
      "metadata": {
        "id": "5gnsIfpc_ME1",
        "colab_type": "code",
        "colab": {}
      },
      "source": [
        ""
      ],
      "execution_count": null,
      "outputs": []
    },
    {
      "cell_type": "markdown",
      "metadata": {
        "id": "7xI1u8jo_ME9",
        "colab_type": "text"
      },
      "source": [
        "5 - Visualiser les données sur une carte à l'aide de la bibliothèque [folium](https://python-visualization.github.io/folium/)"
      ]
    },
    {
      "cell_type": "code",
      "metadata": {
        "id": "W3CTc0S5_ME_",
        "colab_type": "code",
        "colab": {}
      },
      "source": [
        ""
      ],
      "execution_count": null,
      "outputs": []
    }
  ]
}
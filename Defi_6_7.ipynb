{
  "nbformat": 4,
  "nbformat_minor": 0,
  "metadata": {
    "kernelspec": {
      "display_name": "Python 3",
      "language": "python",
      "name": "python3"
    },
    "language_info": {
      "codemirror_mode": {
        "name": "ipython",
        "version": 3
      },
      "file_extension": ".py",
      "mimetype": "text/x-python",
      "name": "python",
      "nbconvert_exporter": "python",
      "pygments_lexer": "ipython3",
      "version": "3.6.4"
    },
    "colab": {
      "name": "Defi_6-7.ipynb",
      "provenance": [],
      "include_colab_link": true
    }
  },
  "cells": [
    {
      "cell_type": "markdown",
      "metadata": {
        "id": "view-in-github",
        "colab_type": "text"
      },
      "source": [
        "<a href=\"https://colab.research.google.com/github/Pierre-Loic/ADL_module_Python_datascience/blob/master/Defi_6_7.ipynb\" target=\"_parent\"><img src=\"https://colab.research.google.com/assets/colab-badge.svg\" alt=\"Open In Colab\"/></a>"
      ]
    },
    {
      "cell_type": "markdown",
      "metadata": {
        "id": "6kzRQyAC-6WI",
        "colab_type": "text"
      },
      "source": [
        "# Défi des parties 6 et 7"
      ]
    },
    {
      "cell_type": "markdown",
      "metadata": {
        "id": "XCOEWMMR-6WL",
        "colab_type": "text"
      },
      "source": [
        "Le but de l'exercice est de comprendre le jeu de données issues du World Happiness Report (pour les années 2015 à 2019) à l'aide de graphiques. Pour les questions 2 et 3, vous devez afficher un graphique à l'aide de **matplotlib** ou de **seaborn**."
      ]
    },
    {
      "cell_type": "markdown",
      "metadata": {
        "id": "IJnQzYiH-6WO",
        "colab_type": "text"
      },
      "source": [
        "1 - Regrouper les données issues des 5 fichiers CSV (WHR_2015.csv, ...) dans un seul dataframe avec une colonne supplémentaire pour l'année "
      ]
    },
    {
      "cell_type": "code",
      "metadata": {
        "id": "3dIa2XR0-6WQ",
        "colab_type": "code",
        "colab": {}
      },
      "source": [
        ""
      ],
      "execution_count": null,
      "outputs": []
    },
    {
      "cell_type": "markdown",
      "metadata": {
        "id": "8LZvYpug-6Wg",
        "colab_type": "text"
      },
      "source": [
        "2 - Tracer les variations du score de bonheur en fonction des années pour un pays donné (à choisir)"
      ]
    },
    {
      "cell_type": "code",
      "metadata": {
        "id": "uuHQzNlk-6Wi",
        "colab_type": "code",
        "colab": {}
      },
      "source": [
        ""
      ],
      "execution_count": null,
      "outputs": []
    },
    {
      "cell_type": "markdown",
      "metadata": {
        "id": "hl8WqPgM-6Wq",
        "colab_type": "text"
      },
      "source": [
        "3 - Comparer les moyennes des scores de bonheur par continent en fonction des années"
      ]
    },
    {
      "cell_type": "code",
      "metadata": {
        "id": "VxADtm15-6Wr",
        "colab_type": "code",
        "colab": {}
      },
      "source": [
        ""
      ],
      "execution_count": null,
      "outputs": []
    }
  ]
}
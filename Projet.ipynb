{
  "nbformat": 4,
  "nbformat_minor": 0,
  "metadata": {
    "kernelspec": {
      "display_name": "Python 3",
      "language": "python",
      "name": "python3"
    },
    "language_info": {
      "codemirror_mode": {
        "name": "ipython",
        "version": 3
      },
      "file_extension": ".py",
      "mimetype": "text/x-python",
      "name": "python",
      "nbconvert_exporter": "python",
      "pygments_lexer": "ipython3",
      "version": "3.6.4"
    },
    "colab": {
      "name": "Projet.ipynb",
      "provenance": [],
      "include_colab_link": true
    }
  },
  "cells": [
    {
      "cell_type": "markdown",
      "metadata": {
        "id": "view-in-github",
        "colab_type": "text"
      },
      "source": [
        "<a href=\"https://colab.research.google.com/github/Pierre-Loic/ADL_module_Python_datascience/blob/correction/Projet.ipynb\" target=\"_parent\"><img src=\"https://colab.research.google.com/assets/colab-badge.svg\" alt=\"Open In Colab\"/></a>"
      ]
    },
    {
      "cell_type": "markdown",
      "metadata": {
        "id": "6VH8OlWS7xhl",
        "colab_type": "text"
      },
      "source": [
        "# Projet"
      ]
    },
    {
      "cell_type": "markdown",
      "metadata": {
        "id": "EWjF5dzd7xho",
        "colab_type": "text"
      },
      "source": [
        "Le but de ce projet est d'analyser un jeu de données (\"train.csv\") qui correspond au \"hello world\" sur le site de compétitions de data science [Kaggle](https://www.kaggle.com/). Il s'agit de données concernant les passagers du Titanic."
      ]
    },
    {
      "cell_type": "markdown",
      "metadata": {
        "id": "FlsZ29uO7xhq",
        "colab_type": "text"
      },
      "source": [
        "1 - Importer les données dans un dataframe pandas"
      ]
    },
    {
      "cell_type": "code",
      "metadata": {
        "id": "bjPzTurZ7xhr",
        "colab_type": "code",
        "colab": {}
      },
      "source": [
        ""
      ],
      "execution_count": null,
      "outputs": []
    },
    {
      "cell_type": "markdown",
      "metadata": {
        "id": "WLCT1KPw7xh3",
        "colab_type": "text"
      },
      "source": [
        " 2 - Analyser la qualité des données"
      ]
    },
    {
      "cell_type": "code",
      "metadata": {
        "id": "Gf6b0gZX7xh4",
        "colab_type": "code",
        "colab": {}
      },
      "source": [
        ""
      ],
      "execution_count": null,
      "outputs": []
    },
    {
      "cell_type": "markdown",
      "metadata": {
        "id": "IDw65gpB7xh-",
        "colab_type": "text"
      },
      "source": [
        "3 - Visualiser certaines variables intéressantes pour la prédiction de survie sur le Titanic"
      ]
    },
    {
      "cell_type": "code",
      "metadata": {
        "id": "3QgqchHD7xiA",
        "colab_type": "code",
        "colab": {}
      },
      "source": [
        ""
      ],
      "execution_count": null,
      "outputs": []
    },
    {
      "cell_type": "markdown",
      "metadata": {
        "id": "rMjT3AHe7xiF",
        "colab_type": "text"
      },
      "source": [
        "4 - Visualiser les corrélations entre variables"
      ]
    },
    {
      "cell_type": "code",
      "metadata": {
        "id": "IbUCdnrP7xiH",
        "colab_type": "code",
        "colab": {}
      },
      "source": [
        ""
      ],
      "execution_count": null,
      "outputs": []
    },
    {
      "cell_type": "markdown",
      "metadata": {
        "id": "AxQWn9tQ7xiM",
        "colab_type": "text"
      },
      "source": [
        "5 - Nettoyer les données pour pouvoir avoir un jeu de données exploitables pour un entrainement de modèles de machine learning"
      ]
    },
    {
      "cell_type": "code",
      "metadata": {
        "id": "YOL-S2TO7xiN",
        "colab_type": "code",
        "colab": {}
      },
      "source": [
        ""
      ],
      "execution_count": null,
      "outputs": []
    }
  ]
}
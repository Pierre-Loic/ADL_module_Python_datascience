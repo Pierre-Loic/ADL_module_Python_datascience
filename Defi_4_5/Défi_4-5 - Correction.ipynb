{
 "cells": [
  {
   "cell_type": "markdown",
   "metadata": {},
   "source": [
    "# Défi des parties 4 et 5"
   ]
  },
  {
   "cell_type": "markdown",
   "metadata": {},
   "source": [
    "## Numpy"
   ]
  },
  {
   "cell_type": "code",
   "execution_count": 1,
   "metadata": {},
   "outputs": [],
   "source": [
    "import numpy as np"
   ]
  },
  {
   "cell_type": "markdown",
   "metadata": {},
   "source": [
    "- Créer un tableau de zéros de dimensions (5, 8, 6)"
   ]
  },
  {
   "cell_type": "code",
   "execution_count": 2,
   "metadata": {},
   "outputs": [
    {
     "name": "stdout",
     "output_type": "stream",
     "text": [
      "[[[0. 0. 0. 0. 0. 0.]\n",
      "  [0. 0. 0. 0. 0. 0.]\n",
      "  [0. 0. 0. 0. 0. 0.]\n",
      "  [0. 0. 0. 0. 0. 0.]\n",
      "  [0. 0. 0. 0. 0. 0.]\n",
      "  [0. 0. 0. 0. 0. 0.]\n",
      "  [0. 0. 0. 0. 0. 0.]\n",
      "  [0. 0. 0. 0. 0. 0.]]\n",
      "\n",
      " [[0. 0. 0. 0. 0. 0.]\n",
      "  [0. 0. 0. 0. 0. 0.]\n",
      "  [0. 0. 0. 0. 0. 0.]\n",
      "  [0. 0. 0. 0. 0. 0.]\n",
      "  [0. 0. 0. 0. 0. 0.]\n",
      "  [0. 0. 0. 0. 0. 0.]\n",
      "  [0. 0. 0. 0. 0. 0.]\n",
      "  [0. 0. 0. 0. 0. 0.]]\n",
      "\n",
      " [[0. 0. 0. 0. 0. 0.]\n",
      "  [0. 0. 0. 0. 0. 0.]\n",
      "  [0. 0. 0. 0. 0. 0.]\n",
      "  [0. 0. 0. 0. 0. 0.]\n",
      "  [0. 0. 0. 0. 0. 0.]\n",
      "  [0. 0. 0. 0. 0. 0.]\n",
      "  [0. 0. 0. 0. 0. 0.]\n",
      "  [0. 0. 0. 0. 0. 0.]]\n",
      "\n",
      " [[0. 0. 0. 0. 0. 0.]\n",
      "  [0. 0. 0. 0. 0. 0.]\n",
      "  [0. 0. 0. 0. 0. 0.]\n",
      "  [0. 0. 0. 0. 0. 0.]\n",
      "  [0. 0. 0. 0. 0. 0.]\n",
      "  [0. 0. 0. 0. 0. 0.]\n",
      "  [0. 0. 0. 0. 0. 0.]\n",
      "  [0. 0. 0. 0. 0. 0.]]\n",
      "\n",
      " [[0. 0. 0. 0. 0. 0.]\n",
      "  [0. 0. 0. 0. 0. 0.]\n",
      "  [0. 0. 0. 0. 0. 0.]\n",
      "  [0. 0. 0. 0. 0. 0.]\n",
      "  [0. 0. 0. 0. 0. 0.]\n",
      "  [0. 0. 0. 0. 0. 0.]\n",
      "  [0. 0. 0. 0. 0. 0.]\n",
      "  [0. 0. 0. 0. 0. 0.]]]\n"
     ]
    }
   ],
   "source": [
    "tab_1 = np.zeros((5, 8, 6))\n",
    "print(tab_1)"
   ]
  },
  {
   "cell_type": "markdown",
   "metadata": {},
   "source": [
    "- Créer un tableau de dimensions (4, 3, 6, 8) à l'aide des fonctions np.arange() et reshape(). Transformer le tableau en un vecteur"
   ]
  },
  {
   "cell_type": "code",
   "execution_count": 3,
   "metadata": {},
   "outputs": [
    {
     "name": "stdout",
     "output_type": "stream",
     "text": [
      "[[[[  0   1   2   3   4   5   6   7]\n",
      "   [  8   9  10  11  12  13  14  15]\n",
      "   [ 16  17  18  19  20  21  22  23]\n",
      "   [ 24  25  26  27  28  29  30  31]\n",
      "   [ 32  33  34  35  36  37  38  39]\n",
      "   [ 40  41  42  43  44  45  46  47]]\n",
      "\n",
      "  [[ 48  49  50  51  52  53  54  55]\n",
      "   [ 56  57  58  59  60  61  62  63]\n",
      "   [ 64  65  66  67  68  69  70  71]\n",
      "   [ 72  73  74  75  76  77  78  79]\n",
      "   [ 80  81  82  83  84  85  86  87]\n",
      "   [ 88  89  90  91  92  93  94  95]]\n",
      "\n",
      "  [[ 96  97  98  99 100 101 102 103]\n",
      "   [104 105 106 107 108 109 110 111]\n",
      "   [112 113 114 115 116 117 118 119]\n",
      "   [120 121 122 123 124 125 126 127]\n",
      "   [128 129 130 131 132 133 134 135]\n",
      "   [136 137 138 139 140 141 142 143]]]\n",
      "\n",
      "\n",
      " [[[144 145 146 147 148 149 150 151]\n",
      "   [152 153 154 155 156 157 158 159]\n",
      "   [160 161 162 163 164 165 166 167]\n",
      "   [168 169 170 171 172 173 174 175]\n",
      "   [176 177 178 179 180 181 182 183]\n",
      "   [184 185 186 187 188 189 190 191]]\n",
      "\n",
      "  [[192 193 194 195 196 197 198 199]\n",
      "   [200 201 202 203 204 205 206 207]\n",
      "   [208 209 210 211 212 213 214 215]\n",
      "   [216 217 218 219 220 221 222 223]\n",
      "   [224 225 226 227 228 229 230 231]\n",
      "   [232 233 234 235 236 237 238 239]]\n",
      "\n",
      "  [[240 241 242 243 244 245 246 247]\n",
      "   [248 249 250 251 252 253 254 255]\n",
      "   [256 257 258 259 260 261 262 263]\n",
      "   [264 265 266 267 268 269 270 271]\n",
      "   [272 273 274 275 276 277 278 279]\n",
      "   [280 281 282 283 284 285 286 287]]]\n",
      "\n",
      "\n",
      " [[[288 289 290 291 292 293 294 295]\n",
      "   [296 297 298 299 300 301 302 303]\n",
      "   [304 305 306 307 308 309 310 311]\n",
      "   [312 313 314 315 316 317 318 319]\n",
      "   [320 321 322 323 324 325 326 327]\n",
      "   [328 329 330 331 332 333 334 335]]\n",
      "\n",
      "  [[336 337 338 339 340 341 342 343]\n",
      "   [344 345 346 347 348 349 350 351]\n",
      "   [352 353 354 355 356 357 358 359]\n",
      "   [360 361 362 363 364 365 366 367]\n",
      "   [368 369 370 371 372 373 374 375]\n",
      "   [376 377 378 379 380 381 382 383]]\n",
      "\n",
      "  [[384 385 386 387 388 389 390 391]\n",
      "   [392 393 394 395 396 397 398 399]\n",
      "   [400 401 402 403 404 405 406 407]\n",
      "   [408 409 410 411 412 413 414 415]\n",
      "   [416 417 418 419 420 421 422 423]\n",
      "   [424 425 426 427 428 429 430 431]]]\n",
      "\n",
      "\n",
      " [[[432 433 434 435 436 437 438 439]\n",
      "   [440 441 442 443 444 445 446 447]\n",
      "   [448 449 450 451 452 453 454 455]\n",
      "   [456 457 458 459 460 461 462 463]\n",
      "   [464 465 466 467 468 469 470 471]\n",
      "   [472 473 474 475 476 477 478 479]]\n",
      "\n",
      "  [[480 481 482 483 484 485 486 487]\n",
      "   [488 489 490 491 492 493 494 495]\n",
      "   [496 497 498 499 500 501 502 503]\n",
      "   [504 505 506 507 508 509 510 511]\n",
      "   [512 513 514 515 516 517 518 519]\n",
      "   [520 521 522 523 524 525 526 527]]\n",
      "\n",
      "  [[528 529 530 531 532 533 534 535]\n",
      "   [536 537 538 539 540 541 542 543]\n",
      "   [544 545 546 547 548 549 550 551]\n",
      "   [552 553 554 555 556 557 558 559]\n",
      "   [560 561 562 563 564 565 566 567]\n",
      "   [568 569 570 571 572 573 574 575]]]]\n",
      "[  0   1   2   3   4   5   6   7   8   9  10  11  12  13  14  15  16  17\n",
      "  18  19  20  21  22  23  24  25  26  27  28  29  30  31  32  33  34  35\n",
      "  36  37  38  39  40  41  42  43  44  45  46  47  48  49  50  51  52  53\n",
      "  54  55  56  57  58  59  60  61  62  63  64  65  66  67  68  69  70  71\n",
      "  72  73  74  75  76  77  78  79  80  81  82  83  84  85  86  87  88  89\n",
      "  90  91  92  93  94  95  96  97  98  99 100 101 102 103 104 105 106 107\n",
      " 108 109 110 111 112 113 114 115 116 117 118 119 120 121 122 123 124 125\n",
      " 126 127 128 129 130 131 132 133 134 135 136 137 138 139 140 141 142 143\n",
      " 144 145 146 147 148 149 150 151 152 153 154 155 156 157 158 159 160 161\n",
      " 162 163 164 165 166 167 168 169 170 171 172 173 174 175 176 177 178 179\n",
      " 180 181 182 183 184 185 186 187 188 189 190 191 192 193 194 195 196 197\n",
      " 198 199 200 201 202 203 204 205 206 207 208 209 210 211 212 213 214 215\n",
      " 216 217 218 219 220 221 222 223 224 225 226 227 228 229 230 231 232 233\n",
      " 234 235 236 237 238 239 240 241 242 243 244 245 246 247 248 249 250 251\n",
      " 252 253 254 255 256 257 258 259 260 261 262 263 264 265 266 267 268 269\n",
      " 270 271 272 273 274 275 276 277 278 279 280 281 282 283 284 285 286 287\n",
      " 288 289 290 291 292 293 294 295 296 297 298 299 300 301 302 303 304 305\n",
      " 306 307 308 309 310 311 312 313 314 315 316 317 318 319 320 321 322 323\n",
      " 324 325 326 327 328 329 330 331 332 333 334 335 336 337 338 339 340 341\n",
      " 342 343 344 345 346 347 348 349 350 351 352 353 354 355 356 357 358 359\n",
      " 360 361 362 363 364 365 366 367 368 369 370 371 372 373 374 375 376 377\n",
      " 378 379 380 381 382 383 384 385 386 387 388 389 390 391 392 393 394 395\n",
      " 396 397 398 399 400 401 402 403 404 405 406 407 408 409 410 411 412 413\n",
      " 414 415 416 417 418 419 420 421 422 423 424 425 426 427 428 429 430 431\n",
      " 432 433 434 435 436 437 438 439 440 441 442 443 444 445 446 447 448 449\n",
      " 450 451 452 453 454 455 456 457 458 459 460 461 462 463 464 465 466 467\n",
      " 468 469 470 471 472 473 474 475 476 477 478 479 480 481 482 483 484 485\n",
      " 486 487 488 489 490 491 492 493 494 495 496 497 498 499 500 501 502 503\n",
      " 504 505 506 507 508 509 510 511 512 513 514 515 516 517 518 519 520 521\n",
      " 522 523 524 525 526 527 528 529 530 531 532 533 534 535 536 537 538 539\n",
      " 540 541 542 543 544 545 546 547 548 549 550 551 552 553 554 555 556 557\n",
      " 558 559 560 561 562 563 564 565 566 567 568 569 570 571 572 573 574 575]\n"
     ]
    }
   ],
   "source": [
    "tab_2 = np.arange(576).reshape(4, 3, 6, 8)\n",
    "print(tab_2)\n",
    "tab_3 = tab_2.ravel()\n",
    "print(tab_3)"
   ]
  },
  {
   "cell_type": "markdown",
   "metadata": {},
   "source": [
    "- Créer une tableau de dimension (5, 8) avec des valeurs aléatoires comprises entre 1 et 12. Sélectionner uniquement les valeurs supérieures à 5. Remplacer toutes les valeurs 10 par np.Nan"
   ]
  },
  {
   "cell_type": "code",
   "execution_count": 4,
   "metadata": {},
   "outputs": [
    {
     "name": "stdout",
     "output_type": "stream",
     "text": [
      "[[ 1  1  9 12  2  7  5  4]\n",
      " [11  3  5  1  7  5  3 10]\n",
      " [ 4  6  7  1 10  8  2  1]\n",
      " [ 6  8  8  1  4  8  4  5]\n",
      " [ 9  6  5  7  5  9  4  6]]\n",
      "[ 9 12  7 11  7 10  6  7 10  8  6  8  8  8  9  6  7  9  6]\n",
      "[ 9. 12.  7. 11.  7. nan  6.  7. nan  8.  6.  8.  8.  8.  9.  6.  7.  9.\n",
      "  6.]\n"
     ]
    }
   ],
   "source": [
    "tab_4 = np.random.randint(1, 13, (5, 8))\n",
    "print(tab_4)\n",
    "tab_5 = tab_4[tab_4 > 5]\n",
    "print(tab_5)\n",
    "tab_6 = np.where(tab_5==10, np.nan, tab_5)\n",
    "print(tab_6)"
   ]
  },
  {
   "cell_type": "markdown",
   "metadata": {},
   "source": [
    "## Pandas"
   ]
  },
  {
   "cell_type": "code",
   "execution_count": 5,
   "metadata": {},
   "outputs": [],
   "source": [
    "import pandas as pd"
   ]
  },
  {
   "cell_type": "markdown",
   "metadata": {},
   "source": [
    "- Créer un dataframe pandas à partir du dictionnaire suivant : {'X':[7,8,9,8,5], 'Y':[4,9,8,3,6],'Z':[6,7,9,2,3]}. Créer un nouveau dataframe avec le carré de la première colonne, le cube de la deuxième colonne et la puissance quatre de la troisième colonne. Concaténer les deux dataframes horizontalement"
   ]
  },
  {
   "cell_type": "code",
   "execution_count": 6,
   "metadata": {},
   "outputs": [
    {
     "name": "stdout",
     "output_type": "stream",
     "text": [
      "   X  Y  Z\n",
      "0  7  4  6\n",
      "1  8  9  7\n",
      "2  9  8  9\n",
      "3  8  3  2\n",
      "4  5  6  3\n",
      "    X    Y     Z\n",
      "0  49   64  1296\n",
      "1  64  729  2401\n",
      "2  81  512  6561\n",
      "3  64   27    16\n",
      "4  25  216    81\n",
      "   A  B  C   D    E     F\n",
      "0  7  4  6  49   64  1296\n",
      "1  8  9  7  64  729  2401\n",
      "2  9  8  9  81  512  6561\n",
      "3  8  3  2  64   27    16\n",
      "4  5  6  3  25  216    81\n"
     ]
    }
   ],
   "source": [
    "data = {\n",
    "    'X':[7,8,9,8,5],\n",
    "    'Y':[4,9,8,3,6],\n",
    "    'Z':[6,7,9,2,3],\n",
    "}\n",
    "df = pd.DataFrame(data)\n",
    "print(df)\n",
    "df_234 = pd.concat([df['X']**2, df['Y']**3, df['Z']**4], axis=1)\n",
    "print(df_234)\n",
    "df_concat = pd.concat([df, df_234], axis=\"columns\")\n",
    "df_concat.columns = (\"A\",\"B\",\"C\",\"D\",\"E\",\"F\")\n",
    "print(df_concat)"
   ]
  },
  {
   "cell_type": "markdown",
   "metadata": {},
   "source": [
    "- Créer un dataframe à partir du dictionnaire suivant : {'name': ['Anastasia', 'Dima', 'Katherine', 'James', 'Emily', 'Michael', 'Matthew', 'Laura', 'Kevin', 'Jonas'],\n",
    "'score': [12.5, 9, 16.5, 15, 9, 20, 14.5, 7, 8, 19],\n",
    "'attempts': [1, 3, 2, 3, 2, 3, 1, 1, 2, 1]}. Récupérer les noms des personnes au dessus de la moyenne (la moyenne est calculée avec le nombre d'essais)"
   ]
  },
  {
   "cell_type": "code",
   "execution_count": 7,
   "metadata": {},
   "outputs": [
    {
     "data": {
      "text/html": [
       "<div>\n",
       "<style scoped>\n",
       "    .dataframe tbody tr th:only-of-type {\n",
       "        vertical-align: middle;\n",
       "    }\n",
       "\n",
       "    .dataframe tbody tr th {\n",
       "        vertical-align: top;\n",
       "    }\n",
       "\n",
       "    .dataframe thead th {\n",
       "        text-align: right;\n",
       "    }\n",
       "</style>\n",
       "<table border=\"1\" class=\"dataframe\">\n",
       "  <thead>\n",
       "    <tr style=\"text-align: right;\">\n",
       "      <th></th>\n",
       "      <th>attempts</th>\n",
       "      <th>name</th>\n",
       "      <th>score</th>\n",
       "    </tr>\n",
       "  </thead>\n",
       "  <tbody>\n",
       "    <tr>\n",
       "      <th>0</th>\n",
       "      <td>1</td>\n",
       "      <td>Anastasia</td>\n",
       "      <td>12.5</td>\n",
       "    </tr>\n",
       "    <tr>\n",
       "      <th>1</th>\n",
       "      <td>3</td>\n",
       "      <td>Dima</td>\n",
       "      <td>9.0</td>\n",
       "    </tr>\n",
       "    <tr>\n",
       "      <th>2</th>\n",
       "      <td>2</td>\n",
       "      <td>Katherine</td>\n",
       "      <td>16.5</td>\n",
       "    </tr>\n",
       "    <tr>\n",
       "      <th>3</th>\n",
       "      <td>3</td>\n",
       "      <td>James</td>\n",
       "      <td>15.0</td>\n",
       "    </tr>\n",
       "    <tr>\n",
       "      <th>4</th>\n",
       "      <td>2</td>\n",
       "      <td>Emily</td>\n",
       "      <td>9.0</td>\n",
       "    </tr>\n",
       "    <tr>\n",
       "      <th>5</th>\n",
       "      <td>3</td>\n",
       "      <td>Michael</td>\n",
       "      <td>20.0</td>\n",
       "    </tr>\n",
       "    <tr>\n",
       "      <th>6</th>\n",
       "      <td>1</td>\n",
       "      <td>Matthew</td>\n",
       "      <td>14.5</td>\n",
       "    </tr>\n",
       "    <tr>\n",
       "      <th>7</th>\n",
       "      <td>1</td>\n",
       "      <td>Laura</td>\n",
       "      <td>7.0</td>\n",
       "    </tr>\n",
       "    <tr>\n",
       "      <th>8</th>\n",
       "      <td>2</td>\n",
       "      <td>Kevin</td>\n",
       "      <td>8.0</td>\n",
       "    </tr>\n",
       "    <tr>\n",
       "      <th>9</th>\n",
       "      <td>1</td>\n",
       "      <td>Jonas</td>\n",
       "      <td>19.0</td>\n",
       "    </tr>\n",
       "  </tbody>\n",
       "</table>\n",
       "</div>"
      ],
      "text/plain": [
       "   attempts       name  score\n",
       "0         1  Anastasia   12.5\n",
       "1         3       Dima    9.0\n",
       "2         2  Katherine   16.5\n",
       "3         3      James   15.0\n",
       "4         2      Emily    9.0\n",
       "5         3    Michael   20.0\n",
       "6         1    Matthew   14.5\n",
       "7         1      Laura    7.0\n",
       "8         2      Kevin    8.0\n",
       "9         1      Jonas   19.0"
      ]
     },
     "execution_count": 7,
     "metadata": {},
     "output_type": "execute_result"
    }
   ],
   "source": [
    "data = {\n",
    "    'name' : ['Anastasia', 'Dima', 'Katherine', 'James', 'Emily', 'Michael', 'Matthew', 'Laura', 'Kevin', 'Jonas'],\n",
    "    'score' : [12.5, 9, 16.5, 15, 9, 20, 14.5, 7, 8, 19],\n",
    "    'attempts': [1, 3, 2, 3, 2, 3, 1, 1, 2, 1],\n",
    "}\n",
    "df = pd.DataFrame(data)\n",
    "df"
   ]
  },
  {
   "cell_type": "code",
   "execution_count": 9,
   "metadata": {},
   "outputs": [
    {
     "name": "stdout",
     "output_type": "stream",
     "text": [
      "13.263157894736842\n"
     ]
    },
    {
     "data": {
      "text/plain": [
       "2    Katherine\n",
       "3        James\n",
       "5      Michael\n",
       "6      Matthew\n",
       "9        Jonas\n",
       "Name: name, dtype: object"
      ]
     },
     "execution_count": 9,
     "metadata": {},
     "output_type": "execute_result"
    }
   ],
   "source": [
    "moy = (df[\"attempts\"] * df[\"score\"]).sum() / df[\"attempts\"].sum()\n",
    "print(moy)\n",
    "result = df[df[\"score\"] > moy]\n",
    "result[\"name\"]"
   ]
  },
  {
   "cell_type": "code",
   "execution_count": null,
   "metadata": {},
   "outputs": [],
   "source": []
  }
 ],
 "metadata": {
  "kernelspec": {
   "display_name": "Python 3",
   "language": "python",
   "name": "python3"
  },
  "language_info": {
   "codemirror_mode": {
    "name": "ipython",
    "version": 3
   },
   "file_extension": ".py",
   "mimetype": "text/x-python",
   "name": "python",
   "nbconvert_exporter": "python",
   "pygments_lexer": "ipython3",
   "version": "3.6.4"
  }
 },
 "nbformat": 4,
 "nbformat_minor": 2
}

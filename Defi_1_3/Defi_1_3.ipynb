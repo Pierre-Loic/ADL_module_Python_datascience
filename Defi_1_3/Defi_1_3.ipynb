{
  "nbformat": 4,
  "nbformat_minor": 0,
  "metadata": {
    "kernelspec": {
      "display_name": "Python 3",
      "language": "python",
      "name": "python3"
    },
    "language_info": {
      "codemirror_mode": {
        "name": "ipython",
        "version": 3
      },
      "file_extension": ".py",
      "mimetype": "text/x-python",
      "name": "python",
      "nbconvert_exporter": "python",
      "pygments_lexer": "ipython3",
      "version": "3.6.4"
    },
    "colab": {
      "name": "Defi_1-3.ipynb",
      "provenance": [],
      "include_colab_link": true
    }
  },
  "cells": [
    {
      "cell_type": "markdown",
      "metadata": {
        "id": "view-in-github",
        "colab_type": "text"
      },
      "source": [
        "<a href=\"https://colab.research.google.com/github/Pierre-Loic/ADL_module_Python_datascience/blob/master/Defi_1_3.ipynb\" target=\"_parent\"><img src=\"https://colab.research.google.com/assets/colab-badge.svg\" alt=\"Open In Colab\"/></a>"
      ]
    },
    {
      "cell_type": "markdown",
      "metadata": {
        "id": "k7X8nbMu8m_I",
        "colab_type": "text"
      },
      "source": [
        "# Défi des parties 1 à 3"
      ]
    },
    {
      "cell_type": "markdown",
      "metadata": {
        "id": "9IOe4z968m_L",
        "colab_type": "text"
      },
      "source": [
        "Le but de l'exercice est de collecter deux sources de données et de les rassembler en une seule. Il n'y a pas besoin de librairies externes pour résoudre cet exercice."
      ]
    },
    {
      "cell_type": "markdown",
      "metadata": {
        "id": "LRPxNS8K8m_M",
        "colab_type": "text"
      },
      "source": [
        "1 - Collecte de la donnée\n",
        "- Récupérer les données du fichier JSON \"data.json\" dans une structure de données Python (list, dict,...)\n",
        "- Récupérer les données du fichier CSV \"data.csv\" dans une structure de données Python (list, dict,...)\n",
        "- Concaténer les deux structures de données"
      ]
    },
    {
      "cell_type": "code",
      "metadata": {
        "id": "c6JmHxez8m_O",
        "colab_type": "code",
        "colab": {}
      },
      "source": [
        ""
      ],
      "execution_count": null,
      "outputs": []
    },
    {
      "cell_type": "markdown",
      "metadata": {
        "id": "LJilwaPc8m_b",
        "colab_type": "text"
      },
      "source": [
        "2 - Stockage des résultats\n",
        "- Créer un fichier JSON avec l'ensemble des données\n",
        "- Créer un fichier CSV avec l'ensemble des données"
      ]
    },
    {
      "cell_type": "code",
      "metadata": {
        "id": "U74wxwUe8m_d",
        "colab_type": "code",
        "colab": {}
      },
      "source": [
        ""
      ],
      "execution_count": null,
      "outputs": []
    },
    {
      "cell_type": "markdown",
      "metadata": {
        "id": "TDgF0lNx8m_i",
        "colab_type": "text"
      },
      "source": [
        "3 - Présentation des résultats\n",
        "- Créer un compte Github (si vous ne l'avez pas déjà fait)  ->  [lien vers Github](https://github.com/)\n",
        "- Créer un repository pour les notebooks des exercices de ce module\n",
        "- Créer une version web de votre notebook (statique ou interactive)"
      ]
    },
    {
      "cell_type": "code",
      "metadata": {
        "id": "B70JqqrN8m_l",
        "colab_type": "code",
        "colab": {}
      },
      "source": [
        ""
      ],
      "execution_count": null,
      "outputs": []
    }
  ]
}
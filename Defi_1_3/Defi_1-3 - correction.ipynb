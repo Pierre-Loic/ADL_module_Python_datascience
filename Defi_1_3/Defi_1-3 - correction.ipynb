{
 "cells": [
  {
   "cell_type": "markdown",
   "metadata": {},
   "source": [
    "# Défi des parties 1 à 3"
   ]
  },
  {
   "cell_type": "markdown",
   "metadata": {},
   "source": [
    "Le but de l'exercice est de collecter deux sources de données et de les rassembler en une seule. Il n'y a pas besoin de librairies externes pour résoudre cet exercice."
   ]
  },
  {
   "cell_type": "markdown",
   "metadata": {},
   "source": [
    "1 - Collecte de la donnée\n",
    "- Récupérer les données du fichier JSON \"data.json\" dans une structure de données Python (list, dict,...)\n",
    "- Récupérer les données du fichier CSV \"data.csv\" dans une structure de données Python (list, dict,...)\n",
    "- Concaténer les deux structures de données"
   ]
  },
  {
   "cell_type": "code",
   "execution_count": 1,
   "metadata": {},
   "outputs": [],
   "source": [
    "import csv\n",
    "import json\n",
    "from collections import defaultdict"
   ]
  },
  {
   "cell_type": "markdown",
   "metadata": {},
   "source": [
    "## PARTIE JSON"
   ]
  },
  {
   "cell_type": "code",
   "execution_count": 3,
   "metadata": {},
   "outputs": [
    {
     "name": "stdout",
     "output_type": "stream",
     "text": [
      "{'date': {'0': '10/02/20', '1': '20/03/20', '2': '15/04/20', '3': '19/04/20', '4': '17/05/20'}, 'depenses': {'0': 120, '1': 150, '2': 50, '3': 210, '4': 167}} <class 'dict'>\n"
     ]
    }
   ],
   "source": [
    "with open(\"data.json\") as json_file:\n",
    "    data_json = json.load(json_file)\n",
    "print(data_json, type(data_json))"
   ]
  },
  {
   "cell_type": "code",
   "execution_count": 4,
   "metadata": {},
   "outputs": [
    {
     "name": "stdout",
     "output_type": "stream",
     "text": [
      "[('10/02/20', 120, 'json_list'), ('20/03/20', 150, 'json_list'), ('15/04/20', 50, 'json_list'), ('19/04/20', 210, 'json_list'), ('17/05/20', 167, 'json_list')]\n"
     ]
    }
   ],
   "source": [
    "def to_tuple(data, nom_list):\n",
    "    result = []\n",
    "    for i in range(len(data[\"date\"])):\n",
    "        result.append((data[\"date\"][str(i)], data[\"depenses\"][str(i)], nom_list))\n",
    "    return result\n",
    "\n",
    "data_json = to_tuple(data_json, \"json_list\")\n",
    "print(data_json)"
   ]
  },
  {
   "cell_type": "markdown",
   "metadata": {},
   "source": [
    "## PARTIE CSV"
   ]
  },
  {
   "cell_type": "code",
   "execution_count": 5,
   "metadata": {},
   "outputs": [
    {
     "name": "stdout",
     "output_type": "stream",
     "text": [
      "defaultdict(<class 'dict'>, {'date': {'0': '10/02/20', '1': '20/03/20', '2': '15/04/20', '3': '19/04/20', '4': '17/05/20'}, 'depenses': {'0': 12, '1': 15, '2': 500, '3': 210, '4': 16}})\n",
      "[('10/02/20', 12, 'csv_list'), ('20/03/20', 15, 'csv_list'), ('15/04/20', 500, 'csv_list'), ('19/04/20', 210, 'csv_list'), ('17/05/20', 16, 'csv_list')]\n"
     ]
    }
   ],
   "source": [
    "with open(\"data.csv\") as csv_file:\n",
    "    data_DR = csv.DictReader(csv_file)\n",
    "    data_csv = defaultdict(dict)\n",
    "    for i, elt in enumerate(data_DR):\n",
    "        data_csv['date'][str(i)] = elt['date']\n",
    "        data_csv['depenses'][str(i)] = int(elt['depenses'])\n",
    "print(data_csv)\n",
    "\n",
    "data_csv = to_tuple(data_csv, \"csv_list\")\n",
    "print(data_csv)"
   ]
  },
  {
   "cell_type": "markdown",
   "metadata": {},
   "source": [
    "## PARTIE CONCATENATION"
   ]
  },
  {
   "cell_type": "code",
   "execution_count": 6,
   "metadata": {},
   "outputs": [
    {
     "name": "stdout",
     "output_type": "stream",
     "text": [
      "[('10/02/20', 120, 'json_list'), ('20/03/20', 150, 'json_list'), ('15/04/20', 50, 'json_list'), ('19/04/20', 210, 'json_list'), ('17/05/20', 167, 'json_list'), ('10/02/20', 12, 'csv_list'), ('20/03/20', 15, 'csv_list'), ('15/04/20', 500, 'csv_list'), ('19/04/20', 210, 'csv_list'), ('17/05/20', 16, 'csv_list')]\n"
     ]
    }
   ],
   "source": [
    "result = []\n",
    "result.extend(data_json)\n",
    "result.extend(data_csv)\n",
    "print(result)"
   ]
  },
  {
   "cell_type": "markdown",
   "metadata": {},
   "source": [
    "2 - Stockage des résultats\n",
    "- Créer un fichier JSON avec l'ensemble des données\n",
    "- Créer un fichier CSV avec l'ensemble des données"
   ]
  },
  {
   "cell_type": "markdown",
   "metadata": {},
   "source": [
    "## PARTIE JSON"
   ]
  },
  {
   "cell_type": "code",
   "execution_count": 7,
   "metadata": {},
   "outputs": [],
   "source": [
    "with open(\"result_json.json\", \"w\") as json_file:\n",
    "    json.dump(result, json_file, indent=6)"
   ]
  },
  {
   "cell_type": "markdown",
   "metadata": {},
   "source": [
    "## PARTIE CSV"
   ]
  },
  {
   "cell_type": "code",
   "execution_count": null,
   "metadata": {},
   "outputs": [],
   "source": [
    "with open(\"result_csv.csv\", \"w\", newline=\"\") as csv_file:\n",
    "    writer = csv.writer(csv_file)\n",
    "    writer.writerow([\"date\", \"dépense\", \"origine\"])\n",
    "    for elt in result:\n",
    "        writer.writerow(elt)"
   ]
  },
  {
   "cell_type": "markdown",
   "metadata": {},
   "source": [
    "3 - Présentation des résultats\n",
    "- Créer un compte Github (si vous ne l'avez pas déjà fait)  ->  [lien vers Github](https://github.com/)\n",
    "- Créer un repository pour les notebooks des exercices de ce module\n",
    "- Créer une version web de votre notebook (statique ou interactive)"
   ]
  },
  {
   "cell_type": "code",
   "execution_count": null,
   "metadata": {},
   "outputs": [],
   "source": []
  }
 ],
 "metadata": {
  "kernelspec": {
   "display_name": "Python 3",
   "language": "python",
   "name": "python3"
  },
  "language_info": {
   "codemirror_mode": {
    "name": "ipython",
    "version": 3
   },
   "file_extension": ".py",
   "mimetype": "text/x-python",
   "name": "python",
   "nbconvert_exporter": "python",
   "pygments_lexer": "ipython3",
   "version": "3.6.4"
  }
 },
 "nbformat": 4,
 "nbformat_minor": 2
}
